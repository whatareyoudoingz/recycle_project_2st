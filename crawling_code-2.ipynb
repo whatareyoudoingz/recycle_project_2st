{
  "cells": [
    {
      "cell_type": "markdown",
      "metadata": {
        "id": "view-in-github"
      },
      "source": [
        "<a href=\"https://colab.research.google.com/github/amthreeh/object-detection/blob/main/yolov7.ipynb\" target=\"_parent\"><img src=\"https://colab.research.google.com/assets/colab-badge.svg\" alt=\"Open In Colab\"/></a>"
      ]
    },
    {
      "cell_type": "markdown",
      "metadata": {
        "id": "5AnLsgz3YDyB"
      },
      "source": [
        "# 데이터 수집"
      ]
    },
    {
      "cell_type": "code",
      "execution_count": null,
      "metadata": {
        "colab": {
          "base_uri": "https://localhost:8080/",
          "height": 35
        },
        "id": "uzyJSfPwF_IC",
        "outputId": "66a0e292-c893-4872-ec6b-0fc7a2c09073"
      },
      "outputs": [
        {
          "output_type": "execute_result",
          "data": {
            "text/plain": [
              "'/content'"
            ],
            "application/vnd.google.colaboratory.intrinsic+json": {
              "type": "string"
            }
          },
          "metadata": {},
          "execution_count": 1
        }
      ],
      "source": [
        "pwd"
      ]
    },
    {
      "cell_type": "markdown",
      "metadata": {
        "id": "4w043Q-aFGgu"
      },
      "source": [
        "## 관련 라이브러리 임포트"
      ]
    },
    {
      "cell_type": "code",
      "execution_count": null,
      "metadata": {
        "colab": {
          "base_uri": "https://localhost:8080/"
        },
        "id": "BFxfqt83D7qF",
        "outputId": "dfec2089-0caf-41ab-bcb9-542c6f576841"
      },
      "outputs": [
        {
          "output_type": "stream",
          "name": "stdout",
          "text": [
            "Collecting icrawler\n",
            "  Downloading icrawler-0.6.7-py3-none-any.whl (34 kB)\n",
            "Requirement already satisfied: pyyaml in /usr/local/lib/python3.10/dist-packages (from icrawler) (6.0.1)\n",
            "Installing collected packages: icrawler\n",
            "Successfully installed icrawler-0.6.7\n"
          ]
        }
      ],
      "source": [
        "!pip install icrawler"
      ]
    },
    {
      "cell_type": "code",
      "execution_count": null,
      "metadata": {
        "colab": {
          "base_uri": "https://localhost:8080/"
        },
        "id": "eWioDUXmJrwi",
        "outputId": "31d5c8d9-764c-42b9-d41f-fa4cd47a5280"
      },
      "outputs": [
        {
          "output_type": "stream",
          "name": "stdout",
          "text": [
            "Mounted at /content/drive\n"
          ]
        }
      ],
      "source": [
        "from google.colab import drive\n",
        "drive.mount('/content/drive')"
      ]
    },
    {
      "cell_type": "code",
      "execution_count": null,
      "metadata": {
        "id": "1at9B5SRD6Q9"
      },
      "outputs": [],
      "source": [
        "import os\n",
        "import icrawler\n",
        "import datetime\n",
        "from multiprocessing import Pool\n",
        "from icrawler.builtin import GoogleImageCrawler\n",
        "import glob"
      ]
    },
    {
      "cell_type": "markdown",
      "metadata": {
        "id": "qU6Mzi39D-GU"
      },
      "source": [
        "## 데이터 크롤링 & 라벨링\n",
        "- 타깃 클래스 3개 : 스티로폼, 비닐, 유리병, 금속캔, 플라스틱, 종이, 페트병\n",
        "- https://icrawler.readthedocs.io/en/latest/builtin.html#search-engine-crawlers\n",
        "- https://inhovation97.tistory.com/36"
      ]
    },
    {
      "cell_type": "code",
      "execution_count": null,
      "metadata": {
        "id": "ds1rTMyHEAc9"
      },
      "outputs": [],
      "source": [
        "for x in ['train_data', 'valid_data', 'test_data']:\n",
        "    add = '/content/drive/MyDrive/cpr_segmentation/recycle/' + x\n",
        "    os.makedirs(add, exist_ok=True)"
      ]
    },
    {
      "cell_type": "code",
      "source": [
        "keywords = ['배달음식쓰레기']\n",
        "path = '/content/drive/MyDrive/cpr_segmentation/recycle/train_data'\n",
        "\n",
        "for i in keywords:\n",
        "    path1 = os.path.join(path, i)\n",
        "    os.makedirs(path1, exist_ok=True)\n",
        "\n",
        "    google_crawler = GoogleImageCrawler(\n",
        "        feeder_threads=1,\n",
        "        parser_threads=1,\n",
        "        downloader_threads=4,\n",
        "        storage={'root_dir': path1},\n",
        "        log_level='INFO')  # 로그 레벨을 INFO로 설정\n",
        "\n",
        "    filters = dict(\n",
        "        size='large',\n",
        "        date=((2019, 1, 1), (2023, 12, 31)))\n",
        "\n",
        "    google_crawler.crawl(\n",
        "        keyword=i,\n",
        "        filters=filters,\n",
        "        offset=0,\n",
        "        max_num=1000,\n",
        "        min_size=(200,200),\n",
        "        max_size=None,\n",
        "        file_idx_offset=0)\n",
        "\n",
        "    path2 = os.path.join(path1, '*')\n",
        "    images = glob.glob(path2)\n",
        "\n",
        "    for x, y in enumerate(images):\n",
        "        new_name = os.path.join(path1, f\"{i}_{x+1:06d}.{y[-3:]}\")\n",
        "        os.rename(y, new_name)\n"
      ],
      "metadata": {
        "colab": {
          "base_uri": "https://localhost:8080/"
        },
        "id": "3xGLSKU6nBdD",
        "outputId": "7d8c5ee3-40f0-4116-92e7-738edccea9fc"
      },
      "execution_count": null,
      "outputs": [
        {
          "output_type": "stream",
          "name": "stderr",
          "text": [
            "ERROR:downloader:Response status code 403, file https://img1.daumcdn.net/thumb/R1280x0/?fname\\u003dhttp://t1.daumcdn.net/brunch/service/user/6EDl/image/-SKPD7pLCCSUt0xK1ARNeg5ELs0.jpg\n",
            "ERROR:downloader:Exception caught when downloading file https://img0.yna.co.kr/mpic/YH/2020/09/04/MYH20200904004600797.jpg, error: HTTPSConnectionPool(host='img0.yna.co.kr', port=443): Max retries exceeded with url: /mpic/YH/2020/09/04/MYH20200904004600797.jpg (Caused by SSLError(SSLError(1, '[SSL: UNSAFE_LEGACY_RENEGOTIATION_DISABLED] unsafe legacy renegotiation disabled (_ssl.c:1007)'))), remaining retry times: 2\n",
            "ERROR:downloader:Response status code 403, file https://m.cafe.daum.net/dotax/Elgq/3446707?svc\\u003dtopRank\",\"배달음식 시켜먹고 묘하게 현타온다는 순간.........jpg\n",
            "ERROR:downloader:Response status code 403, file https://img1.daumcdn.net/thumb/R1280x0/?fname\\u003dhttp://t1.daumcdn.net/brunch/service/guest/image/tA46OZrr9BlCfcBatgu4LWn44p0.png\n",
            "ERROR:downloader:Exception caught when downloading file https://img0.yna.co.kr/mpic/YH/2020/09/04/MYH20200904004600797.jpg, error: HTTPSConnectionPool(host='img0.yna.co.kr', port=443): Max retries exceeded with url: /mpic/YH/2020/09/04/MYH20200904004600797.jpg (Caused by SSLError(SSLError(1, '[SSL: UNSAFE_LEGACY_RENEGOTIATION_DISABLED] unsafe legacy renegotiation disabled (_ssl.c:1007)'))), remaining retry times: 1\n",
            "ERROR:downloader:Exception caught when downloading file https://img0.yna.co.kr/mpic/YH/2020/09/04/MYH20200904004600797.jpg, error: HTTPSConnectionPool(host='img0.yna.co.kr', port=443): Max retries exceeded with url: /mpic/YH/2020/09/04/MYH20200904004600797.jpg (Caused by SSLError(SSLError(1, '[SSL: UNSAFE_LEGACY_RENEGOTIATION_DISABLED] unsafe legacy renegotiation disabled (_ssl.c:1007)'))), remaining retry times: 0\n",
            "ERROR:downloader:Response status code 400, file https://oopy.lazyrockets.com/api/v2/notion/image?src\\u003dhttps%3A%2F%2Fs3-us-west-2.amazonaws.com%2Fsecure.notion-static.com%2F553a7834-3554-49cc-b7b0-e499fbf5e162%2FKakaoTalk_Photo_2021-11-01-22-10-26-4.png\n",
            "ERROR:downloader:Response status code 404, file https://mblogthumb-phinf.pstatic.net/MjAxOTEwMDRfMTYg/MDAxNTcwMTU0MDMxMTE2.aJgLIoBWjjfly5BDozZRT0w2e2VXfO7LlsrsrVhIm9Mg.kAE2WgnYVuoU0YVRtkWumSiYTg-pAo6zFz8CMy__cd4g.JPEG.dlthdus12345/IMG_0155.jpg\n",
            "ERROR:downloader:Response status code 403, file https://m.drjuvu.com/data/webedit/20210420025332987108677.jpg\n",
            "ERROR:downloader:Response status code 401, file https://simg.donga.com/ugc/MLBPARK/Board/16/97/35/13/16973513272750.jpg\n",
            "ERROR:downloader:Exception caught when downloading file https://img1.yna.co.kr/mpic/YH/2021/10/10/MYH20211010000900641.jpg, error: HTTPSConnectionPool(host='img1.yna.co.kr', port=443): Max retries exceeded with url: /mpic/YH/2021/10/10/MYH20211010000900641.jpg (Caused by SSLError(SSLError(1, '[SSL: UNSAFE_LEGACY_RENEGOTIATION_DISABLED] unsafe legacy renegotiation disabled (_ssl.c:1007)'))), remaining retry times: 2\n",
            "ERROR:downloader:Exception caught when downloading file https://www.citywaste.or.kr/getImage.do?url\\u003d/zerofood/2023/9/9/202309120942291694479349999.jpg, error: HTTPSConnectionPool(host='www.citywaste.or.kr', port=443): Read timed out. (read timeout=5), remaining retry times: 2\n",
            "ERROR:downloader:Exception caught when downloading file https://img1.yna.co.kr/mpic/YH/2021/10/10/MYH20211010000900641.jpg, error: HTTPSConnectionPool(host='img1.yna.co.kr', port=443): Max retries exceeded with url: /mpic/YH/2021/10/10/MYH20211010000900641.jpg (Caused by SSLError(SSLError(1, '[SSL: UNSAFE_LEGACY_RENEGOTIATION_DISABLED] unsafe legacy renegotiation disabled (_ssl.c:1007)'))), remaining retry times: 1\n",
            "ERROR:downloader:Exception caught when downloading file https://img1.yna.co.kr/mpic/YH/2021/10/10/MYH20211010000900641.jpg, error: HTTPSConnectionPool(host='img1.yna.co.kr', port=443): Max retries exceeded with url: /mpic/YH/2021/10/10/MYH20211010000900641.jpg (Caused by SSLError(SSLError(1, '[SSL: UNSAFE_LEGACY_RENEGOTIATION_DISABLED] unsafe legacy renegotiation disabled (_ssl.c:1007)'))), remaining retry times: 0\n",
            "ERROR:downloader:Response status code 403, file http://www.snujn.com/files/attach/images/110/830/053/2f97a1da19f504db13917ddca60ad432.jpg\n",
            "ERROR:downloader:Response status code 404, file https://bbs.ruliweb.com/community/board/300143/read/55692037\",\"배달의 민족 개쓰레기 리뷰.jpg\n",
            "ERROR:downloader:Response status code 403, file https://img1.daumcdn.net/thumb/R1280x0/?fname\\u003dhttp://t1.daumcdn.net/brunch/service/user/5DdA/image/vq88IDeXtKI5uEJNGU19p-lg_Sg.jpg\n",
            "ERROR:downloader:Response status code 404, file https://mblogthumb-phinf.pstatic.net/MjAyMjA4MjBfMjMx/MDAxNjYxMDA3MzMwNjM0.gk9Z6xu7Hjs_24unKoOtOeJzJ39qCxs8F78zV9SdKIEg.zpd5cOb7shhU7LtbmNoWttyO3cxzbSgMoQzYjrj8R30g.JPEG.nicessung7/1.jpg\n",
            "ERROR:downloader:Response status code 403, file https://images.chosun.com/resizer/_ugfYAiv-IKsJP7J6xQjNNaHRfU\\u003d/2560x0/smart/cloudfront-ap-northeast-1.images.arcpublishing.com/chosun/Q3ZPYMH4DNDSHNQ2YGY6G43JOI.jpg\n"
          ]
        }
      ]
    },
    {
      "cell_type": "code",
      "source": [
        "keywords = ['배달음식쓰레기']\n",
        "path = '/content/drive/MyDrive/cpr_segmentation/recycle/train_data'\n",
        "\n",
        "for i in keywords:\n",
        "    path1 = os.path.join(path, i)\n",
        "    os.makedirs(path1, exist_ok=True)\n",
        "\n",
        "    google_crawler = GoogleImageCrawler(\n",
        "        feeder_threads=1,\n",
        "        parser_threads=1,\n",
        "        downloader_threads=4,\n",
        "        storage={'root_dir': path1},\n",
        "        log_level='INFO')  # 로그 레벨을 INFO로 설정\n",
        "\n",
        "    filters = dict(\n",
        "        size='large',\n",
        "        date=((2014, 1, 1), (2018, 12, 31)))\n",
        "\n",
        "    google_crawler.crawl(\n",
        "        keyword=i,\n",
        "        filters=filters,\n",
        "        offset=0,\n",
        "        max_num=1000,\n",
        "        min_size=(200,200),\n",
        "        max_size=None,\n",
        "        file_idx_offset=0)\n",
        "\n",
        "    path2 = os.path.join(path1, '*')\n",
        "    images = glob.glob(path2)\n",
        "\n",
        "    for x, y in enumerate(images):\n",
        "        new_name = os.path.join(path1, f\"{i}_{x+1:06d}.{y[-3:]}\")\n",
        "        os.rename(y, new_name)\n"
      ],
      "metadata": {
        "colab": {
          "base_uri": "https://localhost:8080/"
        },
        "id": "vAgbNbG_oZA3",
        "outputId": "a0c56cfc-3170-4f24-e44e-6720a579415f"
      },
      "execution_count": null,
      "outputs": [
        {
          "output_type": "stream",
          "name": "stderr",
          "text": [
            "ERROR:downloader:Response status code 403, file https://img1.daumcdn.net/thumb/R1280x0/?fname\\u003dhttp://t1.daumcdn.net/brunch/service/user/6EDl/image/-SKPD7pLCCSUt0xK1ARNeg5ELs0.jpg\n",
            "ERROR:downloader:Exception caught when downloading file https://img0.yna.co.kr/mpic/YH/2020/09/04/MYH20200904004600797.jpg, error: HTTPSConnectionPool(host='img0.yna.co.kr', port=443): Max retries exceeded with url: /mpic/YH/2020/09/04/MYH20200904004600797.jpg (Caused by SSLError(SSLError(1, '[SSL: UNSAFE_LEGACY_RENEGOTIATION_DISABLED] unsafe legacy renegotiation disabled (_ssl.c:1007)'))), remaining retry times: 2\n",
            "ERROR:downloader:Response status code 403, file https://m.cafe.daum.net/dotax/Elgq/3446707?svc\\u003dtopRank\",\"배달음식 시켜먹고 묘하게 현타온다는 순간.........jpg\n",
            "ERROR:downloader:Exception caught when downloading file https://img0.yna.co.kr/mpic/YH/2020/09/04/MYH20200904004600797.jpg, error: HTTPSConnectionPool(host='img0.yna.co.kr', port=443): Max retries exceeded with url: /mpic/YH/2020/09/04/MYH20200904004600797.jpg (Caused by SSLError(SSLError(1, '[SSL: UNSAFE_LEGACY_RENEGOTIATION_DISABLED] unsafe legacy renegotiation disabled (_ssl.c:1007)'))), remaining retry times: 1\n",
            "ERROR:downloader:Response status code 403, file https://img1.daumcdn.net/thumb/R1280x0/?fname\\u003dhttp://t1.daumcdn.net/brunch/service/guest/image/tA46OZrr9BlCfcBatgu4LWn44p0.png\n",
            "ERROR:downloader:Exception caught when downloading file https://img0.yna.co.kr/mpic/YH/2020/09/04/MYH20200904004600797.jpg, error: HTTPSConnectionPool(host='img0.yna.co.kr', port=443): Max retries exceeded with url: /mpic/YH/2020/09/04/MYH20200904004600797.jpg (Caused by SSLError(SSLError(1, '[SSL: UNSAFE_LEGACY_RENEGOTIATION_DISABLED] unsafe legacy renegotiation disabled (_ssl.c:1007)'))), remaining retry times: 0\n",
            "ERROR:downloader:Response status code 400, file https://oopy.lazyrockets.com/api/v2/notion/image?src\\u003dhttps%3A%2F%2Fs3-us-west-2.amazonaws.com%2Fsecure.notion-static.com%2F553a7834-3554-49cc-b7b0-e499fbf5e162%2FKakaoTalk_Photo_2021-11-01-22-10-26-4.png\n",
            "ERROR:downloader:Response status code 404, file https://mblogthumb-phinf.pstatic.net/MjAxOTEwMDRfMTYg/MDAxNTcwMTU0MDMxMTE2.aJgLIoBWjjfly5BDozZRT0w2e2VXfO7LlsrsrVhIm9Mg.kAE2WgnYVuoU0YVRtkWumSiYTg-pAo6zFz8CMy__cd4g.JPEG.dlthdus12345/IMG_0155.jpg\n",
            "ERROR:downloader:Response status code 403, file https://m.drjuvu.com/data/webedit/20210420025332987108677.jpg\n",
            "ERROR:downloader:Response status code 401, file https://simg.donga.com/ugc/MLBPARK/Board/16/97/35/13/16973513272750.jpg\n",
            "ERROR:downloader:Exception caught when downloading file https://img1.yna.co.kr/mpic/YH/2021/10/10/MYH20211010000900641.jpg, error: HTTPSConnectionPool(host='img1.yna.co.kr', port=443): Max retries exceeded with url: /mpic/YH/2021/10/10/MYH20211010000900641.jpg (Caused by SSLError(SSLError(1, '[SSL: UNSAFE_LEGACY_RENEGOTIATION_DISABLED] unsafe legacy renegotiation disabled (_ssl.c:1007)'))), remaining retry times: 2\n",
            "ERROR:downloader:Exception caught when downloading file https://img1.yna.co.kr/mpic/YH/2021/10/10/MYH20211010000900641.jpg, error: HTTPSConnectionPool(host='img1.yna.co.kr', port=443): Max retries exceeded with url: /mpic/YH/2021/10/10/MYH20211010000900641.jpg (Caused by SSLError(SSLError(1, '[SSL: UNSAFE_LEGACY_RENEGOTIATION_DISABLED] unsafe legacy renegotiation disabled (_ssl.c:1007)'))), remaining retry times: 1\n",
            "ERROR:downloader:Exception caught when downloading file https://img1.yna.co.kr/mpic/YH/2021/10/10/MYH20211010000900641.jpg, error: HTTPSConnectionPool(host='img1.yna.co.kr', port=443): Max retries exceeded with url: /mpic/YH/2021/10/10/MYH20211010000900641.jpg (Caused by SSLError(SSLError(1, '[SSL: UNSAFE_LEGACY_RENEGOTIATION_DISABLED] unsafe legacy renegotiation disabled (_ssl.c:1007)'))), remaining retry times: 0\n",
            "ERROR:downloader:Response status code 403, file http://www.snujn.com/files/attach/images/110/830/053/2f97a1da19f504db13917ddca60ad432.jpg\n",
            "ERROR:downloader:Response status code 404, file https://bbs.ruliweb.com/community/board/300143/read/55692037\",\"배달의 민족 개쓰레기 리뷰.jpg\n",
            "ERROR:downloader:Response status code 403, file https://img1.daumcdn.net/thumb/R1280x0/?fname\\u003dhttp://t1.daumcdn.net/brunch/service/user/5DdA/image/vq88IDeXtKI5uEJNGU19p-lg_Sg.jpg\n",
            "ERROR:downloader:Response status code 404, file https://mblogthumb-phinf.pstatic.net/MjAyMjA4MjBfMjMx/MDAxNjYxMDA3MzMwNjM0.gk9Z6xu7Hjs_24unKoOtOeJzJ39qCxs8F78zV9SdKIEg.zpd5cOb7shhU7LtbmNoWttyO3cxzbSgMoQzYjrj8R30g.JPEG.nicessung7/1.jpg\n",
            "ERROR:downloader:Response status code 403, file https://images.chosun.com/resizer/_ugfYAiv-IKsJP7J6xQjNNaHRfU\\u003d/2560x0/smart/cloudfront-ap-northeast-1.images.arcpublishing.com/chosun/Q3ZPYMH4DNDSHNQ2YGY6G43JOI.jpg\n"
          ]
        }
      ]
    },
    {
      "cell_type": "code",
      "execution_count": 16,
      "metadata": {
        "id": "wXD2O3zo0ZdU",
        "colab": {
          "base_uri": "https://localhost:8080/"
        },
        "outputId": "206407f6-a95d-4014-fc71-0319190ccb02"
      },
      "outputs": [
        {
          "output_type": "stream",
          "name": "stderr",
          "text": [
            "ERROR:downloader:Response status code 403, file https://img1.daumcdn.net/thumb/R1280x0/?fname\\u003dhttp://t1.daumcdn.net/brunch/service/user/6EDl/image/-SKPD7pLCCSUt0xK1ARNeg5ELs0.jpg\n",
            "ERROR:downloader:Response status code 403, file https://t2.daumcdn.net/thumb/R720x0/?fname\\u003dhttp://t1.daumcdn.net/brunch/service/user/5DdA/image/vq88IDeXtKI5uEJNGU19p-lg_Sg.jpg\n",
            "ERROR:downloader:Response status code 404, file https://mblogthumb-phinf.pstatic.net/MjAyMDA4MjNfMjcg/MDAxNTk4MTk0Njg0MzA0.29CEvWh0ULAz6ANPnhLPui7vl0s_Ew8gEKleMstcQD4g.IgxqAG8yTw5FZ0nWU32W_IOf-ormwZOL7JmVAlccJRUg.JPEG.rewqwe/20200819_132851.jpg\n"
          ]
        }
      ],
      "source": [
        "keywords = ['배달음식쓰레기']\n",
        "path = '/content/drive/MyDrive/cpr_segmentation/recycle/train_data'\n",
        "\n",
        "for i in keywords:\n",
        "    path1 = os.path.join(path, i)\n",
        "    os.makedirs(path1, exist_ok=True)\n",
        "\n",
        "    google_crawler = GoogleImageCrawler(\n",
        "        feeder_threads=1,\n",
        "        parser_threads=1,\n",
        "        downloader_threads=4,\n",
        "        storage={'root_dir': path1},\n",
        "        log_level='INFO')  # 로그 레벨을 INFO로 설정\n",
        "\n",
        "    filters = dict(\n",
        "        date=((2014, 1, 1), (2023, 12, 31)))\n",
        "\n",
        "    google_crawler.crawl(\n",
        "        keyword=i,\n",
        "        filters=filters,\n",
        "        offset=0,\n",
        "        max_num=1000,\n",
        "        min_size=(200,200),\n",
        "        max_size=None,\n",
        "        file_idx_offset=0)\n",
        "\n",
        "    path2 = os.path.join(path1, '*')\n",
        "    images = glob.glob(path2)\n",
        "\n",
        "    for x, y in enumerate(images):\n",
        "        new_name = os.path.join(path1, f\"{i}_{x+1:06d}.{y[-3:]}\")\n",
        "        os.rename(y, new_name)\n"
      ]
    }
  ],
  "metadata": {
    "colab": {
      "provenance": []
    },
    "kernelspec": {
      "display_name": "Python 3",
      "language": "python",
      "name": "python3"
    },
    "language_info": {
      "name": "python",
      "version": "3.9.6"
    },
    "vscode": {
      "interpreter": {
        "hash": "31f2aee4e71d21fbe5cf8b01ff0e069b9275f58929596ceb00d14d90e3e16cd6"
      }
    }
  },
  "nbformat": 4,
  "nbformat_minor": 0
}